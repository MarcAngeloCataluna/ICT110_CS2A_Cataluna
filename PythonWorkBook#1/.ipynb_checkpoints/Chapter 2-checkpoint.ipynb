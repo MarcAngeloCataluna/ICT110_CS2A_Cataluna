{
 "cells": [
  {
   "cell_type": "markdown",
   "id": "909147a8",
   "metadata": {},
   "source": [
    "#### Exercise 1"
   ]
  },
  {
   "cell_type": "code",
   "execution_count": 1,
   "id": "252ee08f",
   "metadata": {},
   "outputs": [
    {
     "name": "stdout",
     "output_type": "stream",
     "text": [
      "Enter your name: asd\n",
      "Hello asd\n"
     ]
    }
   ],
   "source": [
    "name = input(\"Enter your name: \")\n",
    "print(\"Hello \" + name)"
   ]
  },
  {
   "cell_type": "markdown",
   "id": "598f0ba8",
   "metadata": {},
   "source": [
    "#### Exercise 2"
   ]
  },
  {
   "cell_type": "code",
   "execution_count": 2,
   "id": "29483b34",
   "metadata": {},
   "outputs": [
    {
     "name": "stdout",
     "output_type": "stream",
     "text": [
      "Enter Hours: 30\n",
      "Enter Rate: 5\n",
      "Pay: 150.0\n"
     ]
    }
   ],
   "source": [
    "hours = input(\"Enter Hours: \")\n",
    "rate = input(\"Enter Rate: \")\n",
    "hoursNum = float(hours)\n",
    "rateNum = float(rate)\n",
    "pay = hoursNum * rateNum\n",
    "print (\"Pay:\",pay)"
   ]
  },
  {
   "cell_type": "markdown",
   "id": "6f166fc6",
   "metadata": {},
   "source": [
    "#### Exercise 3"
   ]
  },
  {
   "cell_type": "code",
   "execution_count": 3,
   "id": "cac02cec",
   "metadata": {},
   "outputs": [
    {
     "name": "stdout",
     "output_type": "stream",
     "text": [
      "8 <class 'int'>\n",
      "8.5 <class 'float'>\n",
      "4.0 <class 'float'>\n",
      "11 <class 'int'>\n"
     ]
    }
   ],
   "source": [
    "width = 17\n",
    "height = 12.0\n",
    "print(width//2,(type(width//2)))\n",
    "print(width/2.0,(type(width/2.0)))\n",
    "print(height/3,(type(height/3)))\n",
    "print(1+2*5,(type(1+2*5)))"
   ]
  },
  {
   "cell_type": "markdown",
   "id": "702d7101",
   "metadata": {},
   "source": [
    "#### Exercise 4\n",
    "\n",
    "Write a program that uses input to prompt a user for a number and then outputs the square of the number\n",
    "```\n",
    "Enter a number: 3\n",
    "The square of 3 is 9\n",
    "```"
   ]
  },
  {
   "cell_type": "code",
   "execution_count": 4,
   "id": "a121e22a",
   "metadata": {
    "scrolled": true
   },
   "outputs": [
    {
     "name": "stdout",
     "output_type": "stream",
     "text": [
      "Enter a number: 5\n",
      "The square of 5 is 25\n"
     ]
    }
   ],
   "source": [
    "num = input(\"Enter a number: \")\n",
    "numValue = int(num)\n",
    "numValue = numValue * numValue\n",
    "print(\"The square of\",num,\"is\",numValue)"
   ]
  },
  {
   "cell_type": "markdown",
   "id": "901fae91",
   "metadata": {},
   "source": [
    "## CHALLENGE"
   ]
  },
  {
   "cell_type": "code",
   "execution_count": 6,
   "id": "b31fd9ad",
   "metadata": {},
   "outputs": [
    {
     "name": "stdout",
     "output_type": "stream",
     "text": [
      "Enter Celsius Temperature: 50\n",
      "Converted Farenheit: 122.0\n"
     ]
    }
   ],
   "source": [
    "celsius = input(\"Enter Celsius Temperature: \")\n",
    "farenheit = int(celsius) * (9/5) + 32\n",
    "print(\"Converted Farenheit:\", farenheit)"
   ]
  },
  {
   "cell_type": "code",
   "execution_count": null,
   "id": "ee4c2a22",
   "metadata": {},
   "outputs": [],
   "source": []
  }
 ],
 "metadata": {
  "kernelspec": {
   "display_name": "Python 3 (ipykernel)",
   "language": "python",
   "name": "python3"
  },
  "language_info": {
   "codemirror_mode": {
    "name": "ipython",
    "version": 3
   },
   "file_extension": ".py",
   "mimetype": "text/x-python",
   "name": "python",
   "nbconvert_exporter": "python",
   "pygments_lexer": "ipython3",
   "version": "3.11.4"
  }
 },
 "nbformat": 4,
 "nbformat_minor": 5
}
