{
 "cells": [
  {
   "cell_type": "markdown",
   "id": "aae85d42",
   "metadata": {},
   "source": [
    "#### Exercise 1"
   ]
  },
  {
   "cell_type": "code",
   "execution_count": null,
   "id": "37cf42ad",
   "metadata": {},
   "outputs": [],
   "source": [
    "def computePay(hours, rate):\n",
    "    if (hours > 40):\n",
    "        extraHours = hours - 40\n",
    "        bonusRate = extraHours * (rate * 1.5)\n",
    "        \n",
    "    totalPay = ((hours - extraHours) * rate) + bonusRate\n",
    "    return totalPay\n",
    "\n",
    "    \n",
    "hours = input(\"Enter Hours: \")\n",
    "rate = input(\"Enter Rate: \")\n",
    "hoursFloat = float(hours)\n",
    "rateFloat = float(rate)\n",
    "totalPay = computePay(hoursFloat, rateFloat)\n",
    "print(\"Pay: \", totalPay)"
   ]
  },
  {
   "cell_type": "markdown",
   "id": "1c607c7b",
   "metadata": {},
   "source": [
    "#### Challenge"
   ]
  },
  {
   "cell_type": "code",
   "execution_count": null,
   "id": "9c96af1b",
   "metadata": {},
   "outputs": [],
   "source": [
    "def computegrade(score):\n",
    "    if (score >= 97):\n",
    "        grade = 1.0\n",
    "    elif (score >= 93):\n",
    "        grade = 1.25\n",
    "    elif (score >= 89):\n",
    "        grade = 1.5\n",
    "    elif (score >= 85):\n",
    "        grade = 1.75\n",
    "    elif (score >= 81):\n",
    "        grade = 2.0\n",
    "    elif (score >= 77):\n",
    "        grade = 2.25\n",
    "    elif (score >= 74):\n",
    "        grade = 2.5\n",
    "    elif (score >= 71):\n",
    "        grade = 3.0\n",
    "        \n",
    "    return str(grade)\n",
    "\n",
    "\n",
    "scoreInput = input(\"Enter Score: \")\n",
    "score = int(scoreInput)\n",
    "grades = computegrade(score)\n",
    "print(\"Your Grade: \", grade)"
   ]
  }
 ],
 "metadata": {
  "kernelspec": {
   "display_name": "Python 3 (ipykernel)",
   "language": "python",
   "name": "python3"
  },
  "language_info": {
   "codemirror_mode": {
    "name": "ipython",
    "version": 3
   },
   "file_extension": ".py",
   "mimetype": "text/x-python",
   "name": "python",
   "nbconvert_exporter": "python",
   "pygments_lexer": "ipython3",
   "version": "3.11.4"
  }
 },
 "nbformat": 4,
 "nbformat_minor": 5
}
