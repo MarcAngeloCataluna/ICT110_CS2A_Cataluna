{
 "cells": [
  {
   "cell_type": "markdown",
   "id": "7f4a5d1e",
   "metadata": {},
   "source": [
    "### Exercise\n",
    "\n",
    "A. Create an ndarry object (A) with any values from 1 to 100 in a nested Python List. You can choose your range from the given values (1-100).\n",
    "\n",
    "* Given that A is an ndarray object, many functionalities in numpy could be accessed by:\n",
    "    + Make sure to explain each line of codes that you have created.\n",
    "\n",
    "1. Using a property of the ndarray object\n",
    "      - e.g. `A.shape`\n",
    "2. Using a method of the ndarray object\n",
    "      - e.g. `A.max()`\n",
    "3. Using a numpy function and passing an ndarray\n",
    "     - e.g. `np.max(A)`\n",
    "\n",
    "B. Create a 5x5 integer-array filled with ones.\n",
    "* Check its shape, size, and number of dimensions. Explain briefly the codes you have created by writing a comment beside the code.\n",
    "\n",
    "C. Create an array of values from -5 to + 5. Multiply each value with 2. Print the resulting array."
   ]
  },
  {
   "cell_type": "code",
   "execution_count": 10,
   "id": "d8c4ef1e",
   "metadata": {},
   "outputs": [
    {
     "name": "stdout",
     "output_type": "stream",
     "text": [
      "(51,)\n",
      "60\n",
      "60\n"
     ]
    }
   ],
   "source": [
    "import numpy as np  # Importing numpy into np\n",
    "values = list(range(10,61))  # Creates a list with range of a given value (which in this case 10 to 60)\n",
    "A = np.array(values)  # Converts list to numpy ndarray\n",
    "print(A.shape)\n",
    "print(A.max())\n",
    "print(np.max(A))"
   ]
  },
  {
   "cell_type": "code",
   "execution_count": 13,
   "id": "a3bca509",
   "metadata": {},
   "outputs": [
    {
     "name": "stdout",
     "output_type": "stream",
     "text": [
      "(5, 5)\n",
      "25\n",
      "2\n"
     ]
    }
   ],
   "source": [
    "ones = np.full([5, 5], 1) # Creates an array using np.full. brackets inside np.full indicates array shape and number 1 is the value to fill\n",
    "print(ones.shape) # checks the array's shape\n",
    "print(ones.size) # checks the array's size\n",
    "print(ones.ndim) # checks the array's number of dimensions"
   ]
  },
  {
   "cell_type": "code",
   "execution_count": 16,
   "id": "8bdecaa2",
   "metadata": {},
   "outputs": [
    {
     "data": {
      "text/plain": [
       "array([-10,  -8,  -6,  -4,  -2,   0,   2,   4,   6,   8,  10])"
      ]
     },
     "execution_count": 16,
     "metadata": {},
     "output_type": "execute_result"
    }
   ],
   "source": [
    "myArray = np.array(list(range(-5, 6))) * 2\n",
    "myArray"
   ]
  },
  {
   "cell_type": "markdown",
   "id": "188ae73c",
   "metadata": {},
   "source": [
    "### Exercise\n",
    "\n",
    "A. Choose the values from the range of numbers 1 to 100.\n",
    "1. Create an array with 30 values within the range of numbers given. You can choose your own start value and stop value. However, the incrementing value will be 2.\n",
    "   * Explain what is the result briefly by writing a comment before the code.\n",
    "2. Multiply the resulting array with 3. Print the result."
   ]
  },
  {
   "cell_type": "code",
   "execution_count": 25,
   "id": "90ce5ddb",
   "metadata": {},
   "outputs": [
    {
     "name": "stdout",
     "output_type": "stream",
     "text": [
      "[ 5  7  9 11 13 15 17 19 21 23 25 27 29 31 33 35 37 39 41 43 45 47 49 51\n",
      " 53 55 57 59 61 63]\n",
      "[ 15  21  27  33  39  45  51  57  63  69  75  81  87  93  99 105 111 117\n",
      " 123 129 135 141 147 153 159 165 171 177 183 189]\n"
     ]
    }
   ],
   "source": [
    "myIncrementedArray = np.arange(5,65,2)\n",
    "print(myIncrementedArray) # The result prints an array that's created using np.arange. np.arange generates an incremental ndarray with given start and stop values with steps\n",
    "multipliedArray = myIncrementedArray * 3\n",
    "print(multipliedArray)"
   ]
  },
  {
   "cell_type": "markdown",
   "id": "1fdb8044",
   "metadata": {},
   "source": [
    "### Exercise\n",
    "\n",
    "A. Create a four-dimensional array of random integers in the interval [0, 12]. Print the result.\n",
    "1. Get the dimensions, shape, and size.\n",
    "    * Explain what is the result briefly by writing a comment before the code.\n",
    "\n",
    "B. Get the maximum number for each dimensions and display it.\n",
    "   * Explain what is the result briefly by writing a comment before the code.\n",
    "\n",
    "C. Multipy each array with 4. What is its result?\n",
    "    * Write a brief explanation on the multiplication process.\n"
   ]
  },
  {
   "cell_type": "code",
   "execution_count": null,
   "id": "148dc731",
   "metadata": {},
   "outputs": [],
   "source": [
    "fourD = np.random.randint(12, size=(2, 3, 4, 5))\n",
    "fourD # the results are 4 dimensional array with values generated from 0 to 12 at random. 4d array looks like there's a 3d array inside of 2d array."
   ]
  },
  {
   "cell_type": "code",
   "execution_count": null,
   "id": "bfb12260",
   "metadata": {},
   "outputs": [],
   "source": [
    "firstDMax = np.max(fourD, axis=0)\n",
    "secondDMax = np.max(fourD, axis=1)\n",
    "thirdDMax = np.max(fourD, axis=2)\n",
    "fourthDMax = np.max(fourD, axis=3)\n",
    "\n",
    "print(\"max number along the 1st dimension:\\n\", firstDMax)\n",
    "print(\"max number along the 2nd dimension:\\n\", secondDMax)\n",
    "print(\"max number along the 3rd dimension:\\n\", thirdDMax)\n",
    "print(\"max number along the 4th dimension:\\n\", fourthDMax)\n",
    "# it prints all max number of a given dimension."
   ]
  },
  {
   "cell_type": "code",
   "execution_count": null,
   "id": "fd4e73b8",
   "metadata": {},
   "outputs": [],
   "source": [
    "firstDMaxMultiplied = firstDMax * 4\n",
    "secondDMaxMultiplied = secondDMax * 4\n",
    "thirdDMaxMultiplied = thirdDMax * 4\n",
    "fourthDMaxMultiplied = fourthDMax * 4\n",
    "\n",
    "print(\"multiplied max number along the 1st dimension:\\n\", firstDMaxMultiplied)\n",
    "print(\"multiplied max number along the 2nd dimension:\\n\", secondDMaxMultiplied)\n",
    "print(\"multiplied max number along the 3rd dimension:\\n\", thirdDMaxMultiplied)\n",
    "print(\"multiplied max number along the 4th dimension:\\n\", fourthDMaxMultiplied)\n",
    "# multiplying the array to a value multiplies the contents of the array to a value."
   ]
  },
  {
   "cell_type": "code",
   "execution_count": null,
   "id": "930c50a7",
   "metadata": {},
   "outputs": [],
   "source": []
  }
 ],
 "metadata": {
  "kernelspec": {
   "display_name": "Python 3 (ipykernel)",
   "language": "python",
   "name": "python3"
  },
  "language_info": {
   "codemirror_mode": {
    "name": "ipython",
    "version": 3
   },
   "file_extension": ".py",
   "mimetype": "text/x-python",
   "name": "python",
   "nbconvert_exporter": "python",
   "pygments_lexer": "ipython3",
   "version": "3.11.5"
  }
 },
 "nbformat": 4,
 "nbformat_minor": 5
}
