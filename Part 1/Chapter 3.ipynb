{
 "cells": [
  {
   "cell_type": "markdown",
   "id": "b7d89f22",
   "metadata": {},
   "source": [
    "#### Exercise 1"
   ]
  },
  {
   "cell_type": "code",
   "execution_count": null,
   "id": "6e4e6d73",
   "metadata": {},
   "outputs": [],
   "source": [
    "x = 10\n",
    "if x > 0 :\n",
    "    print('Above 0')\n",
    "elif x >  10 :\n",
    "    print('Above 10')\n",
    "elif x > 50 :\n",
    "    print('Above 50')\n",
    "elif x >  20 :\n",
    "    print('Above 20')\n",
    "else :\n",
    "    print('Something else')"
   ]
  },
  {
   "cell_type": "markdown",
   "id": "0c6ad2f6",
   "metadata": {},
   "source": [
    "#### Exercise 2"
   ]
  },
  {
   "cell_type": "code",
   "execution_count": null,
   "id": "166b53fb",
   "metadata": {},
   "outputs": [],
   "source": [
    "hours = input(\"Enter Hours: \")\n",
    "rate = input(\"Enter Rate: \")\n",
    "hoursFloat = float(hours)\n",
    "rateFloat = float(rate)\n",
    "\n",
    "if (hoursFloat > 40):\n",
    "    extraHours = hoursFloat - 40\n",
    "    bonusRate = extraHours * (rateFloat * 1.5)\n",
    "\n",
    "totalPay = ((hoursFloat - extraHours) * rateFloat) + bonusRate\n",
    "print(\"Pay: \", totalPay)"
   ]
  },
  {
   "cell_type": "markdown",
   "id": "c927fa02",
   "metadata": {},
   "source": [
    "## CHALLENGE"
   ]
  },
  {
   "cell_type": "code",
   "execution_count": null,
   "id": "746d974b",
   "metadata": {},
   "outputs": [],
   "source": [
    "scoreInput = input(\"Enter Score: \")\n",
    "score = int(scoreInput)\n",
    "\n",
    "if (score >= 97):\n",
    "    grade = 1.0\n",
    "elif (score >= 93):\n",
    "    grade = 1.25\n",
    "elif (score >= 89):\n",
    "    grade = 1.5\n",
    "elif (score >= 85):\n",
    "    grade = 1.75\n",
    "elif (score >= 81):\n",
    "    grade = 2.0\n",
    "elif (score >= 77):\n",
    "    grade = 2.25\n",
    "elif (score >= 74):\n",
    "    grade = 2.5\n",
    "elif (score >= 71):\n",
    "    grade = 3.0\n",
    "    \n",
    "print(\"Your Grade: \", grade)"
   ]
  },
  {
   "cell_type": "markdown",
   "id": "4c6c9937",
   "metadata": {},
   "source": [
    "asdkfjhasd"
   ]
  }
 ],
 "metadata": {
  "kernelspec": {
   "display_name": "Python 3 (ipykernel)",
   "language": "python",
   "name": "python3"
  },
  "language_info": {
   "codemirror_mode": {
    "name": "ipython",
    "version": 3
   },
   "file_extension": ".py",
   "mimetype": "text/x-python",
   "name": "python",
   "nbconvert_exporter": "python",
   "pygments_lexer": "ipython3",
   "version": "3.11.4"
  }
 },
 "nbformat": 4,
 "nbformat_minor": 5
}
