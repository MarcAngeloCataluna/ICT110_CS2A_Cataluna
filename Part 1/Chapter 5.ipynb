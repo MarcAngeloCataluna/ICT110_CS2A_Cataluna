{
 "cells": [
  {
   "cell_type": "markdown",
   "id": "fc4c4edc",
   "metadata": {},
   "source": [
    "#### Exercise 1"
   ]
  },
  {
   "cell_type": "code",
   "execution_count": null,
   "id": "26c18c74",
   "metadata": {},
   "outputs": [],
   "source": [
    "a = 2\n",
    "b = 2.0\n",
    "c = a\n",
    "\n",
    "if a == b:\n",
    "    print(\"a==b\")\n",
    "if b == c:\n",
    "    print(\"b==c\")\n",
    "if a == c:\n",
    "    print(\"a==c\")\n",
    "\n",
    "if a is b:\n",
    "    print(\"a is b\")\n",
    "if b is c:\n",
    "    print(\"b is c\")\n",
    "if a is c:\n",
    "    print(\"a is c\")\n",
    "    \n",
    "# The '==' operator compares the value or equality of two objects,\n",
    "# whereas the 'is' operator compares the value and data type of the two objects."
   ]
  },
  {
   "cell_type": "markdown",
   "id": "e436f234",
   "metadata": {},
   "source": [
    "#### Challenge 1"
   ]
  },
  {
   "cell_type": "code",
   "execution_count": null,
   "id": "b37c7717",
   "metadata": {},
   "outputs": [],
   "source": [
    "numbers = []\n",
    "while True:\n",
    "    Input = input(\"Enter a number: \")\n",
    "    try:\n",
    "        if Input == \"done\":\n",
    "            break\n",
    "        else:\n",
    "            numbers.append(int(Input))\n",
    "    except:\n",
    "        print(\"Invalid input\")\n",
    "    \n",
    "total = 0\n",
    "count = len(numbers)\n",
    "for value in numbers:\n",
    "    total += value\n",
    "    \n",
    "average = float(total / count)\n",
    "\n",
    "print(total, count, average)"
   ]
  },
  {
   "cell_type": "markdown",
   "id": "e978966e",
   "metadata": {},
   "source": [
    "#### Challenge 2  "
   ]
  },
  {
   "cell_type": "code",
   "execution_count": null,
   "id": "1ff326f0",
   "metadata": {},
   "outputs": [],
   "source": [
    "minimum = 99999999\n",
    "maximum = 0\n",
    "while True:\n",
    "    Input = input(\"Enter a number: \")\n",
    "    try:\n",
    "        if Input == \"done\":\n",
    "            break\n",
    "        else:\n",
    "            numbers.append(int(Input))\n",
    "            minimum = min(minimum, int(Input))\n",
    "            maximum = max(maximum, int(Input))\n",
    "            \n",
    "    except:\n",
    "        print(\"Invalid input\")\n",
    "\n",
    "\n",
    "print(maximum, minimum)"
   ]
  }
 ],
 "metadata": {
  "kernelspec": {
   "display_name": "Python 3 (ipykernel)",
   "language": "python",
   "name": "python3"
  },
  "language_info": {
   "codemirror_mode": {
    "name": "ipython",
    "version": 3
   },
   "file_extension": ".py",
   "mimetype": "text/x-python",
   "name": "python",
   "nbconvert_exporter": "python",
   "pygments_lexer": "ipython3",
   "version": "3.11.4"
  }
 },
 "nbformat": 4,
 "nbformat_minor": 5
}
