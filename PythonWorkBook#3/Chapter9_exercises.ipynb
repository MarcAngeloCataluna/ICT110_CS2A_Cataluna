{
 "cells": [
  {
   "cell_type": "markdown",
   "id": "d0465c12",
   "metadata": {},
   "source": [
    "#### Exercise 1\n",
    "\n",
    "Create a dictionary with the following keys and values showing a partial list of Real GDP growth in Annual percent change from IMF (Source: http://www.imf.org/external/datamapper/NGDP_RPCH@WEO/OEMDC/ADVEC/WEOWORLD)\n",
    "\n",
    "    China 6.5\n",
    "    Japan 0.7\n",
    "    Philippines 6.7\n",
    "    United States 2.3\n",
    "    "
   ]
  },
  {
   "cell_type": "code",
   "execution_count": 4,
   "id": "e905531d",
   "metadata": {},
   "outputs": [
    {
     "name": "stdout",
     "output_type": "stream",
     "text": [
      "6.5\n"
     ]
    }
   ],
   "source": [
    "GDP = dict()\n",
    "GDP[\"China\"] = 6.5\n",
    "GDP[\"Japan\"] = 0.7\n",
    "GDP[\"Philippines\"] = 6.7\n",
    "GDP[\"United States\"] = 2.3"
   ]
  },
  {
   "cell_type": "markdown",
   "id": "233a71af",
   "metadata": {},
   "source": [
    "#### Exercise 2\n",
    "\n",
    "```Display all the keys and values from the dictionary you created above```\n"
   ]
  },
  {
   "cell_type": "code",
   "execution_count": 6,
   "id": "dc219bbe",
   "metadata": {},
   "outputs": [
    {
     "name": "stdout",
     "output_type": "stream",
     "text": [
      "Key: China  Value: 6.5\n",
      "Key: Japan  Value: 0.7\n",
      "Key: Philippines  Value: 6.7\n",
      "Key: United States  Value: 2.3\n"
     ]
    }
   ],
   "source": [
    "for key in GDP:\n",
    "    print(\"Key:\",key,\" Value:\",GDP[key])"
   ]
  },
  {
   "cell_type": "markdown",
   "id": "39082a3f",
   "metadata": {},
   "source": [
    "#### Exercise 3\n",
    "\n",
    "Write a program that asks the user to enter a line of text and then counts the number of each word that appeared in the line of text.\n",
    "Use the string function `split()` to make a list of words from a given string\n",
    "e.g.:\n",
    "\n",
    "```python\n",
    "word_list = line.split()\n",
    "```\n",
    "\n",
    "will return a list of words from the string `line` and store it in the variable `word_list`.\n",
    "\n",
    "\n",
    "(Adapted from [PES])"
   ]
  },
  {
   "cell_type": "code",
   "execution_count": 8,
   "id": "a7f9ec91",
   "metadata": {},
   "outputs": [
    {
     "name": "stdout",
     "output_type": "stream",
     "text": [
      "Enter a line of text: the bruh and bruh is so bruh bruh bruh and bruh the end\n",
      "the count: 2\n",
      "bruh count: 6\n",
      "and count: 2\n",
      "is count: 1\n",
      "so count: 1\n",
      "end count: 1\n"
     ]
    }
   ],
   "source": [
    "text = input(\"Enter a line of text: \")\n",
    "word_list = text.split()\n",
    "word_count = {}\n",
    "for word in word_list:\n",
    "    if word in word_count:\n",
    "        word_count[word] += 1\n",
    "    else:\n",
    "        word_count[word] = 1\n",
    "\n",
    "for word in word_count:\n",
    "    print(word,\"count:\",word_count[word])"
   ]
  }
 ],
 "metadata": {
  "kernelspec": {
   "display_name": "Python 3 (ipykernel)",
   "language": "python",
   "name": "python3"
  },
  "language_info": {
   "codemirror_mode": {
    "name": "ipython",
    "version": 3
   },
   "file_extension": ".py",
   "mimetype": "text/x-python",
   "name": "python",
   "nbconvert_exporter": "python",
   "pygments_lexer": "ipython3",
   "version": "3.11.5"
  }
 },
 "nbformat": 4,
 "nbformat_minor": 5
}
