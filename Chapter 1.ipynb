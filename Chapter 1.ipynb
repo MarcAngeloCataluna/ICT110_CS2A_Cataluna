{
 "cells": [
  {
   "cell_type": "markdown",
   "id": "9258fda0",
   "metadata": {},
   "source": [
    "#### Exercise 1\n",
    "\n",
    "Each line of code below contains an error. Fix the error and explain in a comment the reason for the error."
   ]
  },
  {
   "cell_type": "code",
   "execution_count": 4,
   "id": "4fab874c",
   "metadata": {},
   "outputs": [
    {
     "name": "stdout",
     "output_type": "stream",
     "text": [
      "Hello world!\n"
     ]
    }
   ],
   "source": [
    "print('Hello world!')# it has capital P. Variables are case-sensitive"
   ]
  },
  {
   "cell_type": "code",
   "execution_count": 5,
   "id": "31349cee",
   "metadata": {},
   "outputs": [
    {
     "name": "stdout",
     "output_type": "stream",
     "text": [
      "Hello world!\n"
     ]
    }
   ],
   "source": [
    "print('Hello world!')# missing quotation after print"
   ]
  },
  {
   "cell_type": "code",
   "execution_count": 6,
   "id": "46daf849",
   "metadata": {},
   "outputs": [
    {
     "name": "stdout",
     "output_type": "stream",
     "text": [
      "Hello world!\n"
     ]
    }
   ],
   "source": [
    "print('Hello world!')# missing closing quotation at the end of !"
   ]
  },
  {
   "cell_type": "code",
   "execution_count": 7,
   "id": "2b8c070c",
   "metadata": {},
   "outputs": [
    {
     "name": "stdout",
     "output_type": "stream",
     "text": [
      "Hello world!\n"
     ]
    }
   ],
   "source": [
    "print('Hello world!')# redundant quotation after !"
   ]
  },
  {
   "cell_type": "markdown",
   "id": "2a0c7df6",
   "metadata": {},
   "source": [
    "#### Exercise 2\n",
    "What is the output of the code below? [PEW]"
   ]
  },
  {
   "cell_type": "code",
   "execution_count": 8,
   "id": "125d0256",
   "metadata": {},
   "outputs": [
    {
     "name": "stdout",
     "output_type": "stream",
     "text": [
      "44\n"
     ]
    }
   ],
   "source": [
    "x = 43\n",
    "x = x + 1\n",
    "print(x) # x is 44"
   ]
  },
  {
   "cell_type": "markdown",
   "id": "81efd868",
   "metadata": {},
   "source": [
    "#### Exercise 3\n",
    "The code below contains an error. Fix the error and explain in a comment the reason for the error."
   ]
  },
  {
   "cell_type": "code",
   "execution_count": 9,
   "id": "f3a75485",
   "metadata": {},
   "outputs": [
    {
     "name": "stdout",
     "output_type": "stream",
     "text": [
      "44\n"
     ]
    }
   ],
   "source": [
    "x = 43\n",
    "x = x + 1 # the variable x is capital and it wont work since variables are case-sensitive\n",
    "print(x)"
   ]
  }
 ],
 "metadata": {
  "kernelspec": {
   "display_name": "Python 3 (ipykernel)",
   "language": "python",
   "name": "python3"
  },
  "language_info": {
   "codemirror_mode": {
    "name": "ipython",
    "version": 3
   },
   "file_extension": ".py",
   "mimetype": "text/x-python",
   "name": "python",
   "nbconvert_exporter": "python",
   "pygments_lexer": "ipython3",
   "version": "3.11.4"
  }
 },
 "nbformat": 4,
 "nbformat_minor": 5
}
