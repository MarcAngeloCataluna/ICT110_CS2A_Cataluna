{
 "cells": [
  {
   "cell_type": "markdown",
   "id": "73769137",
   "metadata": {},
   "source": [
    "## EXERCISES"
   ]
  },
  {
   "cell_type": "markdown",
   "id": "b1839d85",
   "metadata": {},
   "source": [
    "#### Exercise 1"
   ]
  },
  {
   "cell_type": "markdown",
   "id": "316f4dd5",
   "metadata": {},
   "source": [
    "Given the code below    \n",
    "\n",
    "    text = 'Business Analytics'\n",
    "\n",
    "What will the following expressions produce?\n",
    "    \n",
    "    text[4]\n",
    "    text[2:4]\n",
    "    text[:4]\n",
    "    text[4:]\n",
    "    text[-2]\n",
    "    text[-4:-2]\n",
    "    text[-2:]\n",
    "    text[:-2]\n",
    "    "
   ]
  },
  {
   "cell_type": "code",
   "execution_count": 4,
   "id": "47c0e31a",
   "metadata": {},
   "outputs": [
    {
     "name": "stdout",
     "output_type": "stream",
     "text": [
      "n\n",
      "si\n",
      "Busi\n",
      "ness Analytics\n",
      "c\n",
      "ti\n",
      "cs\n",
      "Business Analyti\n"
     ]
    }
   ],
   "source": [
    "text = 'Business Analytics'\n",
    "print(text[4]) # n\n",
    "print(text[2:4]) # si\n",
    "print(text[:4]) # Busi\n",
    "print(text[4:]) # ness Analytics\n",
    "print(text[-2]) # c\n",
    "print(text[-4:-2]) # ti\n",
    "print(text[-2:]) # cs\n",
    "print(text[:-2]) # Business Analyti"
   ]
  },
  {
   "cell_type": "markdown",
   "id": "9016271d",
   "metadata": {},
   "source": [
    "#### Exercise 2"
   ]
  },
  {
   "cell_type": "markdown",
   "id": "e4939f44",
   "metadata": {},
   "source": [
    "Given the code below:\n",
    "    \n",
    "    phrase = 'One Ring to rule them all'\n",
    "\n",
    "What string slicing expression gives out the following words:\n",
    "\n",
    "    'One '\n",
    "    'Ring'\n",
    "    'all'\n",
    "    'them'\n",
    "    'One Ring to rule them all'\n",
    "    "
   ]
  },
  {
   "cell_type": "code",
   "execution_count": 16,
   "id": "1db6f755",
   "metadata": {},
   "outputs": [
    {
     "name": "stdout",
     "output_type": "stream",
     "text": [
      "One \n",
      "Ring \n",
      "all\n",
      "them\n",
      "One Ring to rule them all\n"
     ]
    }
   ],
   "source": [
    "phrase = 'One Ring to rule them all'\n",
    "print(phrase[:4])\n",
    "print(phrase[4:9])\n",
    "print(phrase[-3:])\n",
    "print(phrase[-8:-4])\n",
    "print(phrase[:])"
   ]
  },
  {
   "cell_type": "markdown",
   "id": "2c4b0775",
   "metadata": {},
   "source": [
    "\n",
    "## CHALLENGE\n"
   ]
  },
  {
   "cell_type": "markdown",
   "id": "5937fa4a",
   "metadata": {},
   "source": [
    "Write a program which repeatedly reads a **full name**, then does the following:\n",
    "- strips the name of any trailing spaces\n",
    "- capitalizes the first letter\n",
    "- puts the rest into smaller letters \n"
   ]
  },
  {
   "cell_type": "code",
   "execution_count": 30,
   "id": "8868d79f",
   "metadata": {
    "scrolled": false
   },
   "outputs": [
    {
     "name": "stdout",
     "output_type": "stream",
     "text": [
      "Enter name: asdnasd\n",
      "Asdnasd\n",
      "Enter name:   asdasd  \n",
      "Asdasd\n",
      "Enter name: Exit\n"
     ]
    }
   ],
   "source": [
    "while (True) :\n",
    "    name = input(\"Enter name: \")\n",
    "    if (name == \"Exit\"):\n",
    "        break\n",
    "    name = name.strip().capitalize()\n",
    "    print(name)"
   ]
  },
  {
   "cell_type": "code",
   "execution_count": null,
   "id": "e39af8bd",
   "metadata": {},
   "outputs": [],
   "source": []
  }
 ],
 "metadata": {
  "kernelspec": {
   "display_name": "Python 3 (ipykernel)",
   "language": "python",
   "name": "python3"
  },
  "language_info": {
   "codemirror_mode": {
    "name": "ipython",
    "version": 3
   },
   "file_extension": ".py",
   "mimetype": "text/x-python",
   "name": "python",
   "nbconvert_exporter": "python",
   "pygments_lexer": "ipython3",
   "version": "3.11.5"
  }
 },
 "nbformat": 4,
 "nbformat_minor": 5
}
